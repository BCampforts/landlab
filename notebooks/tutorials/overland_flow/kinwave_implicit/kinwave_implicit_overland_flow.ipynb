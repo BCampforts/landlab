{
 "cells": [
  {
   "cell_type": "markdown",
   "metadata": {},
   "source": [
    "<a href=\"http://landlab.github.io\"><img style=\"float: left\" src=\"../../../landlab_header.png\"></a>"
   ]
  },
  {
   "cell_type": "markdown",
   "metadata": {},
   "source": [
    "# The Implicit Kinematic Wave Overland Flow Component "
   ]
  },
  {
   "cell_type": "markdown",
   "metadata": {},
   "source": [
    "<hr>\n",
    "<small>For more Landlab tutorials, click here: <a href=\"https://landlab.readthedocs.io/en/latest/user_guide/tutorials.html\">https://landlab.readthedocs.io/en/latest/user_guide/tutorials.html</a></small>\n",
    "<hr>"
   ]
  },
  {
   "cell_type": "markdown",
   "metadata": {},
   "source": [
    "## Overview\n",
    "\n",
    "This notebook demonstrates the `KinwaveImplicitOverlandFlow` Landlab component. The component implements a two-dimensional kinematic wave model of overland flow, using a digital elevation model or other source of topography as the surface over which water flows.\n",
    "\n",
    "### Theory\n",
    "\n",
    "The kinematic wave equations are a simplified form of the 2D shallow-water equations in which energy slope is assumed to equal bed slope. Conservation of water mass is expressed in terms of the time derivative of the local water depth, $H$, and the spatial derivative (divergence) of the unit discharge vector $\\mathbf{q} = UH$ (where $U$ is the 2D depth-averaged velocity vector):\n",
    "\n",
    "$$\\frac{\\partial H}{\\partial t} = R - \\nabla\\cdot \\mathbf{q}$$\n",
    "\n",
    "where $R$ is the local runoff rate [L/T] and $\\mathbf{q}$ has dimensions of volume flow per time per width [L$^2$/T]. The discharge depends on the local depth, bed-surface gradient $\\mathbf{S}=-\\nabla\\eta$ (this is the kinematic wave approximation; $\\eta$ is land surface height), and a roughness factor $C_r$:\n",
    "\n",
    "$$\\mathbf{q} = \\frac{1}{C_r} \\mathbf{S} H^\\alpha |S|^{-1/2}$$\n",
    "\n",
    "Reads may recognize this as a form of the Manning, Chezy, or Darcy-Weisbach equation. If $\\alpha = 5/3$ then we have the Manning equation, and $C_r = n$ is \"Manning's n\". If $\\alpha = 3/2$ then we have the Chezy/Darcy-Weisbach equation, and $C_r = 1/C = (f/8g)^{1/2}$ represents the Chezy roughness factor $C$ and the equivalent Darcy-Weisbach factor $f$.\n",
    "\n",
    "### Numerical solution\n",
    "\n",
    "The solution method used by this component is locally implicit, and works as follows. At each time step, we iterate from upstream to downstream over the topography. Because we are working downstream, we can assume that we know the total water inflow to a given cell. We solve the following mass conservation equation at each cell:\n",
    "\n",
    "$$\\frac{H^{t+1} - H^t}{\\Delta t }= \\frac{Q_{in}}{A} - \\frac{Q_{out}}{A} + R$$\n",
    "\n",
    "where $H$ is water depth at a given grid node, $t$ indicates time step number, $\\Delta t$ is time step duration, $Q_{in}$ is total inflow discharge, $Q_{out}$ is total outflow discharge, $A$ is cell area, and $R$ is local runoff rate (precipitation minus infiltration; could be negative if runon infiltration is occurring).\n",
    "\n",
    "The specific outflow discharge leaving a cell along one of its faces is:\n",
    "\n",
    "$$q = (1/C_r) H^\\alpha S^{1/2}$$\n",
    "\n",
    "where $S$ is the downhill-positive gradient of the link that crosses this particular face. Outflow discharge is zero for links that are flat or \"uphill\" from the given node. Total discharge out of a cell is then the sum of (specific discharge x face width) over all outflow faces:\n",
    "\n",
    "$$Q_{out} = \\sum_{i=1}^N (1/C_r) H^\\alpha S_i^{1/2} W_i$$\n",
    "\n",
    "where $N$ is the number of outflow faces (i.e., faces where the ground slopes downhill away from the cell's node), and $W_i$ is the width of face $i$.\n",
    "\n",
    "We use the depth at the cell's node, so this simplifies to:\n",
    "\n",
    "$$Q_{out} = (1/C_r) H'^\\alpha \\sum_{i=1}^N S_i^{1/2} W_i$$\n",
    "\n",
    "Notice that we know everything here except $H'$. The reason we know $Q_{out}$ is that it equals $Q_{in}$ (which is either zero or we calculated it previously) plus $RA$.\n",
    "\n",
    "We define $H$ in the above as a weighted sum of the \"old\" (time step $t$) and \"new\" (time step $t+1$) depth values:\n",
    "\n",
    "$$H' = w H^{t+1} + (1-w) H^t$$\n",
    "\n",
    "If $w=1$, the method is fully implicit. If $w=0$, it is a simple forward explicit method.\n",
    "\n",
    "When we combine these equations, we have an equation that includes the unknown $H^{t+1}$ and a bunch of terms that are known. If $w\\ne 0$, it is a nonlinear equation in $H^{t+1}$, and must be solved iteratively. We do this using a root-finding method in the scipy.optimize library.\n",
    "\n",
    "In order to implement the algorithm, we must already know which of neighbors of each node are lower than the neighbor, and what the slopes between them are. We accomplish this using the `FlowAccumulator` and `FlowDirectorMFD` components. Running the `FlowAccumulator` also generates a sorted list (array) of nodes in drainage order."
   ]
  },
  {
   "cell_type": "markdown",
   "metadata": {},
   "source": [
    "## Example 1: downpour on a plane\n",
    "\n",
    "The first example tests that the component can reproduce the expected steady flow pattern on a sloping plane, with a gradient of $S_p$. We'll adopt the Manning equation. Once the system comes into equilibrium, the discharge should increase width distance down the plane according to $q = Rx$. We can use this fact to solve for the corresponding water depth:\n",
    "\n",
    "$$(1/n) H^{5/3} S^{1/2} = R x$$\n",
    "\n",
    "which implies\n",
    "\n",
    "$$H = \\left( \\frac{nRx}{S^{1/2}} \\right)^{3/5}$$\n",
    "\n",
    "First, import what we'll need:"
   ]
  },
  {
   "cell_type": "code",
   "execution_count": 13,
   "metadata": {},
   "outputs": [],
   "source": [
    "import numpy as np\n",
    "import matplotlib.pyplot as plt\n",
    "from landlab import RasterModelGrid, imshow_grid\n",
    "from landlab.components.overland_flow import KinwaveImplicitOverlandFlow\n",
    "from landlab.io.esri_ascii import read_esri_ascii"
   ]
  },
  {
   "cell_type": "markdown",
   "metadata": {},
   "source": [
    "Pick the initial and run conditions"
   ]
  },
  {
   "cell_type": "code",
   "execution_count": 9,
   "metadata": {},
   "outputs": [],
   "source": [
    "# Process parameters\n",
    "h_init = 0.001  # initial thin layer of water (m)\n",
    "n = 0.01  # roughness coefficient, (s/m^(1/3))\n",
    "alpha = 5.0 / 3.0 # depth exponent\n",
    "S = 0.01 # slope of plane\n",
    "\n",
    "# Run-control parameters\n",
    "run_time = 100  # duration of run, (s)\n",
    "nrows = 5 # number of node rows\n",
    "ncols = 11 # number of node columns\n",
    "dx = 2.0 # node spacing, m\n",
    "dt = 10.0 # time-step size, s"
   ]
  },
  {
   "cell_type": "markdown",
   "metadata": {},
   "source": [
    "Create grid and fields:\n"
   ]
  },
  {
   "cell_type": "code",
   "execution_count": 10,
   "metadata": {},
   "outputs": [],
   "source": [
    "# create and set up grid\n",
    "grid = RasterModelGrid((nrows, ncols), xy_spacing=dx)\n",
    "grid.set_closed_boundaries_at_grid_edges(False, True, True, True) # open only on east\n",
    "\n",
    "# add required field\n",
    "elev = grid.add_zeros('topographic__elevation', at='node')\n",
    "\n",
    "# set topography\n",
    "elev[grid.core_nodes] = S * (np.amax(grid.x_of_node) - grid.x_of_node[grid.core_nodes])"
   ]
  },
  {
   "cell_type": "markdown",
   "metadata": {},
   "source": [
    "Plot topography, first in plan view..."
   ]
  },
  {
   "cell_type": "code",
   "execution_count": 11,
   "metadata": {},
   "outputs": [
    {
     "data": {
      "image/png": "[encoded data removed]",
      "text/plain": [
       "<Figure size 432x288 with 2 Axes>"
      ]
     },
     "metadata": {
      "needs_background": "light"
     },
     "output_type": "display_data"
    }
   ],
   "source": [
    "imshow_grid(grid, elev)"
   ]
  },
  {
   "cell_type": "markdown",
   "metadata": {},
   "source": [
    "...then as a cross-section:"
   ]
  },
  {
   "cell_type": "code",
   "execution_count": 15,
   "metadata": {},
   "outputs": [
    {
     "data": {
      "image/png": "[encoded data removed]",
      "text/plain": [
       "<Figure size 432x288 with 1 Axes>"
      ]
     },
     "metadata": {
      "needs_background": "light"
     },
     "output_type": "display_data"
    }
   ],
   "source": [
    "plt.plot(grid.x_of_node, elev)\n",
    "plt.xlabel('Distance (m)')\n",
    "plt.ylabel('Height (m)')\n",
    "plt.grid(True)"
   ]
  },
  {
   "cell_type": "code",
   "execution_count": null,
   "metadata": {},
   "outputs": [],
   "source": []
  },
  {
   "cell_type": "code",
   "execution_count": null,
   "metadata": {},
   "outputs": [],
   "source": []
  },
  {
   "cell_type": "code",
   "execution_count": null,
   "metadata": {},
   "outputs": [],
   "source": []
  },
  {
   "cell_type": "code",
   "execution_count": null,
   "metadata": {},
   "outputs": [],
   "source": []
  },
  {
   "cell_type": "markdown",
   "metadata": {},
   "source": [
    "Elapsed time starts at 1 second. This prevents errors when setting our boundary conditions."
   ]
  },
  {
   "cell_type": "code",
   "execution_count": null,
   "metadata": {},
   "outputs": [],
   "source": [
    "elapsed_time = 1.0"
   ]
  },
  {
   "cell_type": "markdown",
   "metadata": {},
   "source": [
    "Use Landlab methods to import an ARC ascii grid, and load the data into the field that the component needs to look at to get the data. This loads the elevation data, z, into a \"field\" in the grid itself, defined on the nodes."
   ]
  },
  {
   "cell_type": "code",
   "execution_count": null,
   "metadata": {},
   "outputs": [],
   "source": [
    "rmg, z = read_esri_ascii('Square_TestBasin.asc')\n",
    "rmg.add_field('topographic__elevation', z, at='node')\n",
    "rmg.set_closed_boundaries_at_grid_edges(True, True, True, True)"
   ]
  },
  {
   "cell_type": "markdown",
   "metadata": {},
   "source": [
    "We can get at this data with this syntax:"
   ]
  },
  {
   "cell_type": "code",
   "execution_count": null,
   "metadata": {},
   "outputs": [],
   "source": [
    "np.all(rmg.at_node['topographic__elevation'] == z)"
   ]
  },
  {
   "cell_type": "markdown",
   "metadata": {},
   "source": [
    "Note that the boundary conditions for this grid mainly got handled with the final line of those three, but for the sake of completeness, we should probably manually \"open\" the outlet. We can find and set the outlet like this:"
   ]
  },
  {
   "cell_type": "code",
   "execution_count": null,
   "metadata": {},
   "outputs": [],
   "source": [
    "my_outlet_node = 100  # This DEM was generated using Landlab and the outlet node ID was known\n",
    "rmg.status_at_node[my_outlet_node] = 1  # 1 is the code for fixed value"
   ]
  },
  {
   "cell_type": "markdown",
   "metadata": {},
   "source": [
    "Now initialize a couple more grid fields that the component is going to need:"
   ]
  },
  {
   "cell_type": "code",
   "execution_count": null,
   "metadata": {},
   "outputs": [],
   "source": [
    "rmg.add_zeros('surface_water__depth', at='node')  # water depth (m)"
   ]
  },
  {
   "cell_type": "code",
   "execution_count": null,
   "metadata": {},
   "outputs": [],
   "source": [
    "rmg.at_node['surface_water__depth'] += h_init"
   ]
  },
  {
   "cell_type": "markdown",
   "metadata": {},
   "source": [
    "Let's look at our watershed topography"
   ]
  },
  {
   "cell_type": "code",
   "execution_count": null,
   "metadata": {},
   "outputs": [],
   "source": [
    "imshow_grid(rmg, 'topographic__elevation')"
   ]
  },
  {
   "cell_type": "markdown",
   "metadata": {},
   "source": [
    "Now instantiate the component itself"
   ]
  },
  {
   "cell_type": "code",
   "execution_count": null,
   "metadata": {},
   "outputs": [],
   "source": [
    "of = OverlandFlow(\n",
    "    rmg, steep_slopes=True\n",
    ")  #for stability in steeper environments, we set the steep_slopes flag to True"
   ]
  },
  {
   "cell_type": "markdown",
   "metadata": {},
   "source": [
    "Now we're going to run the loop that drives the component:"
   ]
  },
  {
   "cell_type": "code",
   "execution_count": null,
   "metadata": {},
   "outputs": [],
   "source": [
    "while elapsed_time < run_time:\n",
    "    # First, we calculate our time step.\n",
    "    dt = of.calc_time_step()\n",
    "    # Now, we can generate overland flow.\n",
    "    of.overland_flow()\n",
    "    # Increased elapsed time\n",
    "    print('Elapsed time: ', elapsed_time)\n",
    "    elapsed_time += dt"
   ]
  },
  {
   "cell_type": "code",
   "execution_count": null,
   "metadata": {},
   "outputs": [],
   "source": [
    "imshow_grid(rmg, 'surface_water__depth', cmap='Blues')"
   ]
  },
  {
   "cell_type": "markdown",
   "metadata": {},
   "source": [
    "Now let's get clever, and run a set of time slices:"
   ]
  },
  {
   "cell_type": "code",
   "execution_count": null,
   "metadata": {},
   "outputs": [],
   "source": [
    "elapsed_time = 1.\n",
    "for t in run_time_slices:\n",
    "    while elapsed_time < t:\n",
    "        # First, we calculate our time step.\n",
    "        dt = of.calc_time_step()\n",
    "        # Now, we can generate overland flow.\n",
    "        of.overland_flow()\n",
    "        # Increased elapsed time\n",
    "        elapsed_time += dt\n",
    "    figure(t)\n",
    "    imshow_grid(rmg, 'surface_water__depth', cmap='Blues')"
   ]
  },
  {
   "cell_type": "markdown",
   "metadata": {
    "collapsed": true
   },
   "source": [
    "### Click here for more <a href=\"https://landlab.readthedocs.io/en/latest/user_guide/tutorials.html\">Landlab tutorials</a>"
   ]
  }
 ],
 "metadata": {
  "kernelspec": {
   "display_name": "Python 3",
   "language": "python",
   "name": "python3"
  },
  "language_info": {
   "codemirror_mode": {
    "name": "ipython",
    "version": 3
   },
   "file_extension": ".py",
   "mimetype": "text/x-python",
   "name": "python",
   "nbconvert_exporter": "python",
   "pygments_lexer": "ipython3",
   "version": "3.8.8"
  }
 },
 "nbformat": 4,
 "nbformat_minor": 1
}
