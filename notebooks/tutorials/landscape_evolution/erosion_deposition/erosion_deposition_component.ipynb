{
 "cells": [
  {
   "cell_type": "markdown",
   "metadata": {},
   "source": [
    "<a href=\"http://landlab.github.io\"><img style=\"float: left\" src=\"../../../landlab_header.png\"></a>"
   ]
  },
  {
   "cell_type": "markdown",
   "metadata": {},
   "source": [
    "# Introduction to the `ErosionDeposition` component"
   ]
  },
  {
   "cell_type": "markdown",
   "metadata": {},
   "source": [
    "<hr>\n",
    "<small>For more Landlab tutorials, click here: <a href=\"https://landlab.readthedocs.io/en/latest/user_guide/tutorials.html\">https://landlab.readthedocs.io/en/latest/user_guide/tutorials.html</a></small>\n",
    "<hr>"
   ]
  },
  {
   "cell_type": "markdown",
   "metadata": {},
   "source": [
    "This tutorial introduces the `ErosionDeposition` component, which simulates erosion and deposition in a river network over long time scales.\n",
    "\n",
    "## Theory and Overview\n",
    "\n",
    "`ErosionDeposition` models fluvial processes using the approach described by Davy and Lague (2009). The basic goal is to calculate rates of erosion or deposition in the various branches of a river network that is embedded in a gridded landscape (see, e.g., Tucker and Hancock, 2010). The literature has a number of different approaches to this problem. Some models assume transport-limited conditions, such that erosion or deposition result from local imbalances in sediment transport capacity (see, e.g., Willgoose, 2018). Some assume detachment-limited conditions, such that any eroded sediment is entirely removed  (e.g., Howard, 1994; Whipple and Tucker, 1999; Tucker and Whipple, 2002). Still others allow for both erosion of detachment-resistant material, and re-deposition of that material. The Davy-Lague approach falls in the latter category. A brief review of the governing equations is given below; for a fuller description, see Davy and Lague (2009).\n",
    "\n",
    "The rate of change of channel-bed elevation, $\\eta$, equals a source term (representing the rate of rock uplift relative to a given baselevel), $U$, a rate of material entrainment, $E$, and a rate of deposition of sediment from the water column, $D$."
   ]
  },
  {
   "cell_type": "code",
   "execution_count": null,
   "metadata": {},
   "outputs": [],
   "source": [
    "from landlab.components import LinearDiffuser\n",
    "from landlab.plot import imshow_grid\n",
    "from landlab import RasterModelGrid\n",
    "import matplotlib as mpl\n",
    "import matplotlib.cm as cm\n",
    "from matplotlib.pyplot import figure, show, plot, xlabel, ylabel, title\n",
    "import numpy as np"
   ]
  },
  {
   "cell_type": "markdown",
   "metadata": {},
   "source": []
  },
  {
   "cell_type": "code",
   "execution_count": null,
   "metadata": {},
   "outputs": [],
   "source": [
    "from landlab.components import FlowAccumulator, FastscapeEroder\n",
    "from landlab import load_params"
   ]
  },
  {
   "cell_type": "markdown",
   "metadata": {},
   "source": []
  },
  {
   "cell_type": "code",
   "execution_count": null,
   "metadata": {},
   "outputs": [],
   "source": [
    "input_file = './coupled_params.txt'\n",
    "inputs = load_params(input_file) # load the data into a dictionary\n",
    "\n",
    "nrows = inputs['nrows']\n",
    "ncols = inputs['ncols']\n",
    "dx = inputs['dx']\n",
    "uplift_rate = inputs['uplift_rate']\n",
    "total_t = inputs['total_time']\n",
    "dt = inputs['dt']\n",
    "\n",
    "nt = int(total_t // dt) #this is how many loops we'll need\n",
    "uplift_per_step = uplift_rate * dt\n",
    "\n",
    "# illustrate what the MPD looks like:\n",
    "print(inputs)"
   ]
  },
  {
   "cell_type": "markdown",
   "metadata": {},
   "source": []
  },
  {
   "cell_type": "code",
   "execution_count": null,
   "metadata": {},
   "outputs": [],
   "source": [
    "mg = RasterModelGrid((nrows, ncols), dx)\n",
    "z = mg.add_zeros('topographic__elevation', at='node')\n",
    "# add some roughness, as this lets \"natural\" channel planforms arise\n",
    "initial_roughness = np.random.rand(z.size) / 100000.\n",
    "z += initial_roughness\n",
    "for edge in (mg.nodes_at_left_edge, mg.nodes_at_right_edge):\n",
    "    mg.status_at_node[edge] = mg.BC_NODE_IS_CLOSED\n",
    "for edge in (mg.nodes_at_top_edge, mg.nodes_at_bottom_edge):\n",
    "    mg.status_at_node[edge] = mg.BC_NODE_IS_FIXED_VALUE"
   ]
  },
  {
   "cell_type": "markdown",
   "metadata": {},
   "source": []
  },
  {
   "cell_type": "code",
   "execution_count": null,
   "metadata": {},
   "outputs": [],
   "source": [
    "fr = FlowAccumulator(mg)\n",
    "sp = FastscapeEroder(mg, **inputs['stream_power'])\n",
    "lin_diffuse = LinearDiffuser(mg, **inputs['linear_diffuser'])"
   ]
  },
  {
   "cell_type": "markdown",
   "metadata": {},
   "source": []
  },
  {
   "cell_type": "code",
   "execution_count": null,
   "metadata": {},
   "outputs": [],
   "source": [
    "for i in range(nt):\n",
    "    # lin_diffuse.run_one_step(dt) no diffusion this time\n",
    "    fr.run_one_step() # run_one_step isn't time sensitive, so it doesn't take dt as input\n",
    "    sp.run_one_step(dt)\n",
    "    mg.at_node['topographic__elevation'][mg.core_nodes] += uplift_per_step # add the uplift\n",
    "    if i % 20 == 0:\n",
    "        print ('Completed loop %d' % i)"
   ]
  },
  {
   "cell_type": "markdown",
   "metadata": {},
   "source": []
  },
  {
   "cell_type": "code",
   "execution_count": null,
   "metadata": {},
   "outputs": [],
   "source": [
    "figure('topo without diffusion')\n",
    "imshow_grid(mg, 'topographic__elevation', grid_units=['km','km'], var_name='Elevation (km)')"
   ]
  },
  {
   "cell_type": "markdown",
   "metadata": {},
   "source": []
  },
  {
   "cell_type": "code",
   "execution_count": null,
   "metadata": {},
   "outputs": [],
   "source": [
    "z[:] = initial_roughness\n",
    "for i in range(nt):\n",
    "    lin_diffuse.run_one_step(dt)  # no diffusion this time\n",
    "    fr.run_one_step() # run_one_step isn't time sensitive, so it doesn't take dt as input\n",
    "    sp.run_one_step(dt)\n",
    "    mg.at_node['topographic__elevation'][mg.core_nodes] += uplift_per_step # add the uplift\n",
    "    if i % 20 == 0:\n",
    "        print ('Completed loop %d' % i)"
   ]
  },
  {
   "cell_type": "code",
   "execution_count": null,
   "metadata": {},
   "outputs": [],
   "source": [
    "figure('topo with diffusion')\n",
    "imshow_grid(mg, 'topographic__elevation', grid_units=['km','km'],\n",
    "            var_name='Elevation (km)')"
   ]
  },
  {
   "cell_type": "markdown",
   "metadata": {},
   "source": []
  },
  {
   "cell_type": "code",
   "execution_count": null,
   "metadata": {},
   "outputs": [],
   "source": [
    "from landlab.components import ChannelProfiler, PrecipitationDistribution\n",
    "from matplotlib.pyplot import loglog"
   ]
  },
  {
   "cell_type": "code",
   "execution_count": null,
   "metadata": {},
   "outputs": [],
   "source": [
    "z[:] = initial_roughness"
   ]
  },
  {
   "cell_type": "markdown",
   "metadata": {},
   "source": [
    "Instantiate the storm generator. This time, we're going to mix an input file for some components with manual definition of others (that we already defined above)."
   ]
  },
  {
   "cell_type": "code",
   "execution_count": null,
   "metadata": {},
   "outputs": [],
   "source": [
    "dt = 0.1\n",
    "total_t = 250.\n",
    "\n",
    "storm_inputs = load_params('./coupled_params_storms.txt')\n",
    "precip = PrecipitationDistribution(total_t=total_t, delta_t=dt, **storm_inputs)\n",
    "print(storm_inputs)"
   ]
  },
  {
   "cell_type": "code",
   "execution_count": null,
   "metadata": {},
   "outputs": [],
   "source": [
    "# make a color mapping appropriate for our time duration\n",
    "norm = mpl.colors.Normalize(vmin=0, vmax=total_t)\n",
    "map_color = cm.ScalarMappable(norm=norm, cmap=\"viridis\")"
   ]
  },
  {
   "cell_type": "markdown",
   "metadata": {},
   "source": [
    "Now run:"
   ]
  },
  {
   "cell_type": "code",
   "execution_count": null,
   "metadata": {},
   "outputs": [],
   "source": [
    "out_interval = 20.\n",
    "last_trunc = total_t # we use this to trigger taking an output plot\n",
    "for (interval_duration, rainfall_rate) in precip.yield_storm_interstorm_duration_intensity():\n",
    "    if rainfall_rate > 0.:\n",
    "        # note diffusion also only happens when it's raining...\n",
    "        fr.run_one_step()\n",
    "        sp.run_one_step(interval_duration)\n",
    "        lin_diffuse.run_one_step(interval_duration)\n",
    "    z[mg.core_nodes] += uplift_rate * interval_duration\n",
    "    this_trunc = precip.elapsed_time // out_interval\n",
    "    if this_trunc != last_trunc:  # time to plot a new profile!\n",
    "        print('made it to time %d' % (out_interval * this_trunc))\n",
    "        last_trunc = this_trunc\n",
    "        figure(\"long_profiles\")\n",
    "        # get and plot the longest profile\n",
    "        cp = ChannelProfiler(mg)\n",
    "        cp.run_one_step()\n",
    "        cp.plot_profiles(color = map_color.to_rgba(precip.elapsed_time))\n",
    "        \n",
    "    # no need to track elapsed time, as the generator will stop automatically\n",
    "# make the figure look nicer:\n",
    "figure(\"long_profiles\")\n",
    "xlabel('Distance upstream (km)')\n",
    "ylabel('Elevation (km)')\n",
    "title('Long profiles evolving through time')\n",
    "mpl.pyplot.colorbar(map_color)"
   ]
  },
  {
   "cell_type": "markdown",
   "metadata": {},
   "source": [
    "Note that the \"wobbles\" in the long profile here are being created by the stochastic storm sequence. We could reduce their impact by reducing the storm-interstorm timescales, or allowing diffusion while it's not raining, but we've chosen not to here to show that the storms are having an effect."
   ]
  },
  {
   "cell_type": "code",
   "execution_count": null,
   "metadata": {},
   "outputs": [],
   "source": [
    "figure('topo with diffusion and storms')\n",
    "imshow_grid(mg, 'topographic__elevation', grid_units=['km','km'], var_name='Elevation (km)')"
   ]
  },
  {
   "cell_type": "markdown",
   "metadata": {},
   "source": [
    "We can also plot the location of the channels in map view. \n",
    "\n",
    "Here we plot all channel segments with drainage area greater than 0.01 square kilometers in the seven biggest drainage basins. "
   ]
  },
  {
   "cell_type": "code",
   "execution_count": null,
   "metadata": {},
   "outputs": [],
   "source": [
    "cp = ChannelProfiler(mg, number_of_watersheds=7, minimum_channel_threshold=0.01, main_channel_only=False)\n",
    "cp.run_one_step()\n",
    "cp.plot_profiles_in_map_view()"
   ]
  },
  {
   "cell_type": "markdown",
   "metadata": {},
   "source": [
    "Next we make a slope area plot. "
   ]
  },
  {
   "cell_type": "code",
   "execution_count": null,
   "metadata": {},
   "outputs": [],
   "source": [
    "figure('final slope-area plot')\n",
    "loglog(mg.at_node['drainage_area'], mg.at_node['topographic__steepest_slope'],'.')\n",
    "xlabel('Drainage area (km**2)')\n",
    "ylabel('Local slope')\n",
    "title('Slope-Area plot for whole landscape')"
   ]
  },
  {
   "cell_type": "markdown",
   "metadata": {},
   "source": [
    "That's a nice set of figures, eh? You can easily spend more time with pylab prettifying them if you want."
   ]
  },
  {
   "cell_type": "markdown",
   "metadata": {},
   "source": [
    "### Click here for more <a href=\"https://landlab.readthedocs.io/en/latest/user_guide/tutorials.html\">Landlab tutorials</a>"
   ]
  }
 ],
 "metadata": {
  "kernelspec": {
   "display_name": "Python 3",
   "language": "python",
   "name": "python3"
  },
  "language_info": {
   "codemirror_mode": {
    "name": "ipython",
    "version": 3
   },
   "file_extension": ".py",
   "mimetype": "text/x-python",
   "name": "python",
   "nbconvert_exporter": "python",
   "pygments_lexer": "ipython3",
   "version": "3.8.8"
  }
 },
 "nbformat": 4,
 "nbformat_minor": 4
}
